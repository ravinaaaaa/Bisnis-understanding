{
  "cells": [
    {
      "cell_type": "markdown",
      "source": [
        "**Ravina Eka Adiya**\n",
        "**2409116078**"
      ],
      "metadata": {
        "id": "KOnLFCDQJOQ7"
      }
    },
    {
      "cell_type": "markdown",
      "source": [
        "#**BUSINESS UNDERSTANDING**"
      ],
      "metadata": {
        "id": "lXGjyCDVJ6Ko"
      }
    },
    {
      "cell_type": "markdown",
      "source": [
        "###**BUSINESS OBJECTIVE**"
      ],
      "metadata": {
        "id": "f8pDG4BsMY9U"
      }
    },
    {
      "cell_type": "markdown",
      "source": [
        "untuk mencapai tujuan bisnis yang telah ditetapkan, bisa dengan menggunakan wawasan dari analisis data untuk meningkatkan penjualan produk yang paling diminati, mengembangkan strategi pemasaran yang lebih personal dan berbasis data untuk meningkatkann interaksi pelanggan, menyediakan rekomendasi produk yang lebih akurat untuk meningkatkan kepuasan dan retensi pelanggan."
      ],
      "metadata": {
        "id": "6yCC7eHlKEAE"
      }
    },
    {
      "cell_type": "markdown",
      "source": [
        "###**Assess Situation**"
      ],
      "metadata": {
        "id": "XihBgf3rMd4P"
      }
    },
    {
      "cell_type": "markdown",
      "source": [
        "untuk memahami kondisi bisnis saat ini, beberapa faktor utama yang perlu di evaluasi seperti :\n",
        "1. persaingan di industri kecantikan, tren produk, dan preferensi konsumen.\n",
        "2. evaluasi kategori produk yang paling banyak diminati dan kurang diminati.\n",
        "3. kendala dalam mengelola data, perubahan tren pasar, dan perilaku pelanggan yang dinamis."
      ],
      "metadata": {
        "id": "wkNmbiDCLAJS"
      }
    },
    {
      "cell_type": "markdown",
      "source": [
        "###**Data Mining Goals**"
      ],
      "metadata": {
        "id": "6JYVeN2oNe0o"
      }
    },
    {
      "cell_type": "markdown",
      "source": [
        "tujuan utama dalam proses data mining meliputi prediksi tren produk, segmentasi pelanggan, optimasi harga, rekomendasi produk."
      ],
      "metadata": {
        "id": "ONruFlDmLRPE"
      }
    },
    {
      "cell_type": "markdown",
      "source": [
        "###**Project Plan**"
      ],
      "metadata": {
        "id": "y6pQQcddNj4N"
      }
    },
    {
      "cell_type": "markdown",
      "source": [
        "Agar analisis katalog produk Sociolla dapat memberikan manfaat maksimal, ada beberapa langkah-langkah perencanaan proyek yang dapat diusulkan yaitu, pengumpulan data, pembersihan dan persiapan data, menggunakan teknik machine learning atau statistik untuk mengidentifikasi tren dan preferensi pelanggan, visualisasi dan pelaporan, menerapkan hasil analisis ke dalam strategi bisnis Sociolla untuk meningkatkan efisiensi dan pertumbuhan, evaluasi dan pengukuran kinerja.\n",
        "\n"
      ],
      "metadata": {
        "id": "uhciLRrdLb8s"
      }
    }
  ],
  "metadata": {
    "colab": {
      "name": "Welcome To Colab",
      "provenance": []
    },
    "kernelspec": {
      "display_name": "Python 3",
      "name": "python3"
    }
  },
  "nbformat": 4,
  "nbformat_minor": 0
}